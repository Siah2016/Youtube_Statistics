{
 "cells": [
  {
   "cell_type": "markdown",
   "metadata": {},
   "source": [
    "### Imports"
   ]
  },
  {
   "cell_type": "code",
   "execution_count": 2,
   "metadata": {},
   "outputs": [],
   "source": [
    "import pandas as pd\n",
    "import matplotlib.pyplot as plt"
   ]
  },
  {
   "cell_type": "markdown",
   "metadata": {},
   "source": [
    "### Import CSV into DataFrame"
   ]
  },
  {
   "cell_type": "code",
   "execution_count": 5,
   "metadata": {},
   "outputs": [
    {
     "data": {
      "text/html": [
       "<div>\n",
       "<style scoped>\n",
       "    .dataframe tbody tr th:only-of-type {\n",
       "        vertical-align: middle;\n",
       "    }\n",
       "\n",
       "    .dataframe tbody tr th {\n",
       "        vertical-align: top;\n",
       "    }\n",
       "\n",
       "    .dataframe thead th {\n",
       "        text-align: right;\n",
       "    }\n",
       "</style>\n",
       "<table border=\"1\" class=\"dataframe\">\n",
       "  <thead>\n",
       "    <tr style=\"text-align: right;\">\n",
       "      <th></th>\n",
       "      <th>Youtuber</th>\n",
       "      <th>Subscribers</th>\n",
       "      <th>Category</th>\n",
       "      <th>Country</th>\n",
       "      <th>Channel_Type</th>\n",
       "      <th>Monthly_Earnings</th>\n",
       "      <th>Yearly_Earnings</th>\n",
       "      <th>Created_Year</th>\n",
       "      <th>College_Enrollment_Percentage</th>\n",
       "    </tr>\n",
       "    <tr>\n",
       "      <th>rank</th>\n",
       "      <th></th>\n",
       "      <th></th>\n",
       "      <th></th>\n",
       "      <th></th>\n",
       "      <th></th>\n",
       "      <th></th>\n",
       "      <th></th>\n",
       "      <th></th>\n",
       "      <th></th>\n",
       "    </tr>\n",
       "  </thead>\n",
       "  <tbody>\n",
       "    <tr>\n",
       "      <th>900</th>\n",
       "      <td>DJ Khaled</td>\n",
       "      <td>13100000</td>\n",
       "      <td>Music</td>\n",
       "      <td>Samoa</td>\n",
       "      <td>Music</td>\n",
       "      <td>2.0</td>\n",
       "      <td>18.0</td>\n",
       "      <td>2006.0</td>\n",
       "      <td>7.6</td>\n",
       "    </tr>\n",
       "    <tr>\n",
       "      <th>57</th>\n",
       "      <td>HAR PAL GEO</td>\n",
       "      <td>44600000</td>\n",
       "      <td>Entertainment</td>\n",
       "      <td>Pakistan</td>\n",
       "      <td>Entertainment</td>\n",
       "      <td>5300000.0</td>\n",
       "      <td>64200000.0</td>\n",
       "      <td>2008.0</td>\n",
       "      <td>9.0</td>\n",
       "    </tr>\n",
       "    <tr>\n",
       "      <th>186</th>\n",
       "      <td>HUM TV</td>\n",
       "      <td>28300000</td>\n",
       "      <td>Entertainment</td>\n",
       "      <td>Pakistan</td>\n",
       "      <td>Entertainment</td>\n",
       "      <td>2700000.0</td>\n",
       "      <td>32900000.0</td>\n",
       "      <td>2011.0</td>\n",
       "      <td>9.0</td>\n",
       "    </tr>\n",
       "    <tr>\n",
       "      <th>819</th>\n",
       "      <td>Geo News</td>\n",
       "      <td>13800000</td>\n",
       "      <td>News &amp; Politics</td>\n",
       "      <td>Pakistan</td>\n",
       "      <td>News</td>\n",
       "      <td>400200.0</td>\n",
       "      <td>4800000.0</td>\n",
       "      <td>2007.0</td>\n",
       "      <td>9.0</td>\n",
       "    </tr>\n",
       "    <tr>\n",
       "      <th>66</th>\n",
       "      <td>ARY Digital HD</td>\n",
       "      <td>43200000</td>\n",
       "      <td>Entertainment</td>\n",
       "      <td>Pakistan</td>\n",
       "      <td>Entertainment</td>\n",
       "      <td>4600000.0</td>\n",
       "      <td>55200000.0</td>\n",
       "      <td>2016.0</td>\n",
       "      <td>9.0</td>\n",
       "    </tr>\n",
       "  </tbody>\n",
       "</table>\n",
       "</div>"
      ],
      "text/plain": [
       "            Youtuber  Subscribers         Category   Country   Channel_Type  \\\n",
       "rank                                                                          \n",
       "900        DJ Khaled     13100000            Music     Samoa          Music   \n",
       "57       HAR PAL GEO     44600000    Entertainment  Pakistan  Entertainment   \n",
       "186           HUM TV     28300000    Entertainment  Pakistan  Entertainment   \n",
       "819         Geo News     13800000  News & Politics  Pakistan           News   \n",
       "66    ARY Digital HD     43200000    Entertainment  Pakistan  Entertainment   \n",
       "\n",
       "      Monthly_Earnings  Yearly_Earnings  Created_Year  \\\n",
       "rank                                                    \n",
       "900                2.0             18.0        2006.0   \n",
       "57           5300000.0       64200000.0        2008.0   \n",
       "186          2700000.0       32900000.0        2011.0   \n",
       "819           400200.0        4800000.0        2007.0   \n",
       "66           4600000.0       55200000.0        2016.0   \n",
       "\n",
       "      College_Enrollment_Percentage  \n",
       "rank                                 \n",
       "900                             7.6  \n",
       "57                              9.0  \n",
       "186                             9.0  \n",
       "819                             9.0  \n",
       "66                              9.0  "
      ]
     },
     "execution_count": 5,
     "metadata": {},
     "output_type": "execute_result"
    }
   ],
   "source": [
    "df = pd.read_csv(\"clean_youtube_statistics.csv\", index_col = \"rank\")\n",
    "\n",
    "df.head()"
   ]
  },
  {
   "cell_type": "markdown",
   "metadata": {},
   "source": [
    "### Sorting the Rank"
   ]
  },
  {
   "cell_type": "code",
   "execution_count": 7,
   "metadata": {},
   "outputs": [
    {
     "data": {
      "text/html": [
       "<div>\n",
       "<style scoped>\n",
       "    .dataframe tbody tr th:only-of-type {\n",
       "        vertical-align: middle;\n",
       "    }\n",
       "\n",
       "    .dataframe tbody tr th {\n",
       "        vertical-align: top;\n",
       "    }\n",
       "\n",
       "    .dataframe thead th {\n",
       "        text-align: right;\n",
       "    }\n",
       "</style>\n",
       "<table border=\"1\" class=\"dataframe\">\n",
       "  <thead>\n",
       "    <tr style=\"text-align: right;\">\n",
       "      <th></th>\n",
       "      <th>Youtuber</th>\n",
       "      <th>Subscribers</th>\n",
       "      <th>Category</th>\n",
       "      <th>Country</th>\n",
       "      <th>Channel_Type</th>\n",
       "      <th>Monthly_Earnings</th>\n",
       "      <th>Yearly_Earnings</th>\n",
       "      <th>Created_Year</th>\n",
       "      <th>College_Enrollment_Percentage</th>\n",
       "    </tr>\n",
       "    <tr>\n",
       "      <th>rank</th>\n",
       "      <th></th>\n",
       "      <th></th>\n",
       "      <th></th>\n",
       "      <th></th>\n",
       "      <th></th>\n",
       "      <th></th>\n",
       "      <th></th>\n",
       "      <th></th>\n",
       "      <th></th>\n",
       "    </tr>\n",
       "  </thead>\n",
       "  <tbody>\n",
       "    <tr>\n",
       "      <th>1</th>\n",
       "      <td>T-Series</td>\n",
       "      <td>245000000</td>\n",
       "      <td>Music</td>\n",
       "      <td>India</td>\n",
       "      <td>Music</td>\n",
       "      <td>9000000.0</td>\n",
       "      <td>108400000.0</td>\n",
       "      <td>2006.0</td>\n",
       "      <td>28.1</td>\n",
       "    </tr>\n",
       "    <tr>\n",
       "      <th>3</th>\n",
       "      <td>MrBeast</td>\n",
       "      <td>166000000</td>\n",
       "      <td>Entertainment</td>\n",
       "      <td>United States</td>\n",
       "      <td>Entertainment</td>\n",
       "      <td>5400000.0</td>\n",
       "      <td>64700000.0</td>\n",
       "      <td>2012.0</td>\n",
       "      <td>88.2</td>\n",
       "    </tr>\n",
       "    <tr>\n",
       "      <th>4</th>\n",
       "      <td>Cocomelon - Nursery Rhymes</td>\n",
       "      <td>162000000</td>\n",
       "      <td>Education</td>\n",
       "      <td>United States</td>\n",
       "      <td>Education</td>\n",
       "      <td>7900000.0</td>\n",
       "      <td>94800000.0</td>\n",
       "      <td>2006.0</td>\n",
       "      <td>88.2</td>\n",
       "    </tr>\n",
       "    <tr>\n",
       "      <th>5</th>\n",
       "      <td>SET India</td>\n",
       "      <td>159000000</td>\n",
       "      <td>Shows</td>\n",
       "      <td>India</td>\n",
       "      <td>Entertainment</td>\n",
       "      <td>7300000.0</td>\n",
       "      <td>87500000.0</td>\n",
       "      <td>2006.0</td>\n",
       "      <td>28.1</td>\n",
       "    </tr>\n",
       "    <tr>\n",
       "      <th>9</th>\n",
       "      <td>Like Nastya</td>\n",
       "      <td>106000000</td>\n",
       "      <td>People &amp; Blogs</td>\n",
       "      <td>Russia</td>\n",
       "      <td>People</td>\n",
       "      <td>195800.0</td>\n",
       "      <td>2300000.0</td>\n",
       "      <td>2016.0</td>\n",
       "      <td>81.9</td>\n",
       "    </tr>\n",
       "  </tbody>\n",
       "</table>\n",
       "</div>"
      ],
      "text/plain": [
       "                        Youtuber  Subscribers        Category        Country  \\\n",
       "rank                                                                           \n",
       "1                       T-Series    245000000           Music          India   \n",
       "3                        MrBeast    166000000   Entertainment  United States   \n",
       "4     Cocomelon - Nursery Rhymes    162000000       Education  United States   \n",
       "5                      SET India    159000000           Shows          India   \n",
       "9                    Like Nastya    106000000  People & Blogs         Russia   \n",
       "\n",
       "       Channel_Type  Monthly_Earnings  Yearly_Earnings  Created_Year  \\\n",
       "rank                                                                   \n",
       "1             Music         9000000.0      108400000.0        2006.0   \n",
       "3     Entertainment         5400000.0       64700000.0        2012.0   \n",
       "4         Education         7900000.0       94800000.0        2006.0   \n",
       "5     Entertainment         7300000.0       87500000.0        2006.0   \n",
       "9            People          195800.0        2300000.0        2016.0   \n",
       "\n",
       "      College_Enrollment_Percentage  \n",
       "rank                                 \n",
       "1                              28.1  \n",
       "3                              88.2  \n",
       "4                              88.2  \n",
       "5                              28.1  \n",
       "9                              81.9  "
      ]
     },
     "execution_count": 7,
     "metadata": {},
     "output_type": "execute_result"
    }
   ],
   "source": [
    "sorted_df = df.sort_values(\"rank\")\n",
    "\n",
    "sorted_df.head()"
   ]
  },
  {
   "cell_type": "markdown",
   "metadata": {},
   "source": [
    "### Creating an Bar Plot"
   ]
  },
  {
   "cell_type": "code",
   "execution_count": 28,
   "metadata": {},
   "outputs": [
    {
     "data": {
      "image/png": "[encoded data removed]",
      "text/plain": [
       "<Figure size 600x200 with 1 Axes>"
      ]
     },
     "metadata": {},
     "output_type": "display_data"
    }
   ],
   "source": [
    "cat_df = sorted_df[\"Category\"].value_counts()\n",
    "\n",
    "cat_df.plot.bar(figsize=(6,2), color=[\"blue\", \"red\", \"green\", \"yellow\", \"purple\", \"orange\", \"pink\", \"black\", \"silver\", \"gold\"]);\n",
    "\n",
    "plt.title(\"Youtube Statistic By Category\", fontsize= 12);\n",
    "plt.xlabel(\"Categories\", fontsize=10);\n",
    "plt.ylabel(\"Numbers of YC\", fontsize=10);\n",
    "plt.yticks(fontsize=8);\n"
   ]
  },
  {
   "cell_type": "markdown",
   "metadata": {},
   "source": [
    "### Creating a Histogram"
   ]
  },
  {
   "cell_type": "code",
   "execution_count": 33,
   "metadata": {},
   "outputs": [
    {
     "data": {
      "image/png": "[encoded data removed]",
      "text/plain": [
       "<Figure size 640x480 with 1 Axes>"
      ]
     },
     "metadata": {},
     "output_type": "display_data"
    }
   ],
   "source": [
    "df[\"Subscribers\"].plot.hist();"
   ]
  },
  {
   "cell_type": "markdown",
   "metadata": {},
   "source": []
  },
  {
   "cell_type": "code",
   "execution_count": null,
   "metadata": {},
   "outputs": [],
   "source": []
  }
 ],
 "metadata": {
  "kernelspec": {
   "display_name": "Python 3",
   "language": "python",
   "name": "python3"
  },
  "language_info": {
   "codemirror_mode": {
    "name": "ipython",
    "version": 3
   },
   "file_extension": ".py",
   "mimetype": "text/x-python",
   "name": "python",
   "nbconvert_exporter": "python",
   "pygments_lexer": "ipython3",
   "version": "3.10.11"
  },
  "orig_nbformat": 4
 },
 "nbformat": 4,
 "nbformat_minor": 2
}
